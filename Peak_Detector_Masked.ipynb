{
 "cells": [
  {
   "cell_type": "code",
   "execution_count": 1,
   "metadata": {},
   "outputs": [],
   "source": [
    "%config IPCompleter.greedy=True\n",
    "import pandas as pd\n",
    "import numpy as np\n",
    "\n",
    "pd.set_option('display.float_format', '{:.2f}'.format)"
   ]
  },
  {
   "cell_type": "code",
   "execution_count": 2,
   "metadata": {},
   "outputs": [
    {
     "data": {
      "text/html": [
       "<div>\n",
       "<style scoped>\n",
       "    .dataframe tbody tr th:only-of-type {\n",
       "        vertical-align: middle;\n",
       "    }\n",
       "\n",
       "    .dataframe tbody tr th {\n",
       "        vertical-align: top;\n",
       "    }\n",
       "\n",
       "    .dataframe thead th {\n",
       "        text-align: right;\n",
       "    }\n",
       "</style>\n",
       "<table border=\"1\" class=\"dataframe\">\n",
       "  <thead>\n",
       "    <tr style=\"text-align: right;\">\n",
       "      <th></th>\n",
       "      <th>StartDate</th>\n",
       "      <th>EndDate</th>\n",
       "      <th>GeoID</th>\n",
       "      <th>Geo</th>\n",
       "      <th>CategoryID</th>\n",
       "      <th>Category</th>\n",
       "      <th>Impressions</th>\n",
       "    </tr>\n",
       "  </thead>\n",
       "  <tbody>\n",
       "    <tr>\n",
       "      <th>0</th>\n",
       "      <td>01/01/2016</td>\n",
       "      <td>31/01/2016</td>\n",
       "      <td>16632</td>\n",
       "      <td>Israel</td>\n",
       "      <td>11111</td>\n",
       "      <td>Nail Fungus Products</td>\n",
       "      <td>300366</td>\n",
       "    </tr>\n",
       "    <tr>\n",
       "      <th>1</th>\n",
       "      <td>01/01/2016</td>\n",
       "      <td>31/01/2016</td>\n",
       "      <td>16632</td>\n",
       "      <td>Israel</td>\n",
       "      <td>22222</td>\n",
       "      <td>Key Making &amp; Copying</td>\n",
       "      <td>13333338</td>\n",
       "    </tr>\n",
       "    <tr>\n",
       "      <th>2</th>\n",
       "      <td>01/01/2016</td>\n",
       "      <td>31/01/2016</td>\n",
       "      <td>16632</td>\n",
       "      <td>Israel</td>\n",
       "      <td>33333</td>\n",
       "      <td>TV Sci-Fi &amp; Fantasy Shows</td>\n",
       "      <td>51466</td>\n",
       "    </tr>\n",
       "    <tr>\n",
       "      <th>3</th>\n",
       "      <td>01/01/2016</td>\n",
       "      <td>31/01/2016</td>\n",
       "      <td>19782</td>\n",
       "      <td>United Kingdom</td>\n",
       "      <td>11111</td>\n",
       "      <td>Nail Fungus Products</td>\n",
       "      <td>725217</td>\n",
       "    </tr>\n",
       "    <tr>\n",
       "      <th>4</th>\n",
       "      <td>01/01/2016</td>\n",
       "      <td>31/01/2016</td>\n",
       "      <td>19782</td>\n",
       "      <td>United Kingdom</td>\n",
       "      <td>22222</td>\n",
       "      <td>Key Making &amp; Copying</td>\n",
       "      <td>783398</td>\n",
       "    </tr>\n",
       "  </tbody>\n",
       "</table>\n",
       "</div>"
      ],
      "text/plain": [
       "    StartDate     EndDate  GeoID             Geo  CategoryID  \\\n",
       "0  01/01/2016  31/01/2016  16632          Israel       11111   \n",
       "1  01/01/2016  31/01/2016  16632          Israel       22222   \n",
       "2  01/01/2016  31/01/2016  16632          Israel       33333   \n",
       "3  01/01/2016  31/01/2016  19782  United Kingdom       11111   \n",
       "4  01/01/2016  31/01/2016  19782  United Kingdom       22222   \n",
       "\n",
       "                    Category  Impressions  \n",
       "0       Nail Fungus Products       300366  \n",
       "1       Key Making & Copying     13333338  \n",
       "2  TV Sci-Fi & Fantasy Shows        51466  \n",
       "3       Nail Fungus Products       725217  \n",
       "4       Key Making & Copying       783398  "
      ]
     },
     "execution_count": 2,
     "metadata": {},
     "output_type": "execute_result"
    }
   ],
   "source": [
    "ds = pd.read_csv('./Raw_V1.csv')\n",
    "ds.head()"
   ]
  },
  {
   "cell_type": "code",
   "execution_count": 3,
   "metadata": {},
   "outputs": [
    {
     "data": {
      "text/html": [
       "<div>\n",
       "<style scoped>\n",
       "    .dataframe tbody tr th:only-of-type {\n",
       "        vertical-align: middle;\n",
       "    }\n",
       "\n",
       "    .dataframe tbody tr th {\n",
       "        vertical-align: top;\n",
       "    }\n",
       "\n",
       "    .dataframe thead th {\n",
       "        text-align: right;\n",
       "    }\n",
       "</style>\n",
       "<table border=\"1\" class=\"dataframe\">\n",
       "  <thead>\n",
       "    <tr style=\"text-align: right;\">\n",
       "      <th></th>\n",
       "      <th>StartDate</th>\n",
       "      <th>EndDate</th>\n",
       "      <th>GeoID</th>\n",
       "      <th>Geo</th>\n",
       "      <th>CategoryID</th>\n",
       "      <th>Category</th>\n",
       "      <th>Impressions</th>\n",
       "      <th>month</th>\n",
       "      <th>year</th>\n",
       "    </tr>\n",
       "  </thead>\n",
       "  <tbody>\n",
       "    <tr>\n",
       "      <th>0</th>\n",
       "      <td>01/01/2016</td>\n",
       "      <td>31/01/2016</td>\n",
       "      <td>16632</td>\n",
       "      <td>Israel</td>\n",
       "      <td>11111</td>\n",
       "      <td>Nail Fungus Products</td>\n",
       "      <td>300366</td>\n",
       "      <td>01</td>\n",
       "      <td>2016</td>\n",
       "    </tr>\n",
       "    <tr>\n",
       "      <th>1</th>\n",
       "      <td>01/01/2016</td>\n",
       "      <td>31/01/2016</td>\n",
       "      <td>16632</td>\n",
       "      <td>Israel</td>\n",
       "      <td>22222</td>\n",
       "      <td>Key Making &amp; Copying</td>\n",
       "      <td>13333338</td>\n",
       "      <td>01</td>\n",
       "      <td>2016</td>\n",
       "    </tr>\n",
       "    <tr>\n",
       "      <th>2</th>\n",
       "      <td>01/01/2016</td>\n",
       "      <td>31/01/2016</td>\n",
       "      <td>16632</td>\n",
       "      <td>Israel</td>\n",
       "      <td>33333</td>\n",
       "      <td>TV Sci-Fi &amp; Fantasy Shows</td>\n",
       "      <td>51466</td>\n",
       "      <td>01</td>\n",
       "      <td>2016</td>\n",
       "    </tr>\n",
       "    <tr>\n",
       "      <th>3</th>\n",
       "      <td>01/01/2016</td>\n",
       "      <td>31/01/2016</td>\n",
       "      <td>19782</td>\n",
       "      <td>United Kingdom</td>\n",
       "      <td>11111</td>\n",
       "      <td>Nail Fungus Products</td>\n",
       "      <td>725217</td>\n",
       "      <td>01</td>\n",
       "      <td>2016</td>\n",
       "    </tr>\n",
       "    <tr>\n",
       "      <th>4</th>\n",
       "      <td>01/01/2016</td>\n",
       "      <td>31/01/2016</td>\n",
       "      <td>19782</td>\n",
       "      <td>United Kingdom</td>\n",
       "      <td>22222</td>\n",
       "      <td>Key Making &amp; Copying</td>\n",
       "      <td>783398</td>\n",
       "      <td>01</td>\n",
       "      <td>2016</td>\n",
       "    </tr>\n",
       "  </tbody>\n",
       "</table>\n",
       "</div>"
      ],
      "text/plain": [
       "    StartDate     EndDate  GeoID             Geo  CategoryID  \\\n",
       "0  01/01/2016  31/01/2016  16632          Israel       11111   \n",
       "1  01/01/2016  31/01/2016  16632          Israel       22222   \n",
       "2  01/01/2016  31/01/2016  16632          Israel       33333   \n",
       "3  01/01/2016  31/01/2016  19782  United Kingdom       11111   \n",
       "4  01/01/2016  31/01/2016  19782  United Kingdom       22222   \n",
       "\n",
       "                    Category  Impressions month  year  \n",
       "0       Nail Fungus Products       300366    01  2016  \n",
       "1       Key Making & Copying     13333338    01  2016  \n",
       "2  TV Sci-Fi & Fantasy Shows        51466    01  2016  \n",
       "3       Nail Fungus Products       725217    01  2016  \n",
       "4       Key Making & Copying       783398    01  2016  "
      ]
     },
     "execution_count": 3,
     "metadata": {},
     "output_type": "execute_result"
    }
   ],
   "source": [
    "ds['month'] = ds.StartDate.map(lambda x: x.split('/')[1])\n",
    "ds['year'] = ds.StartDate.map(lambda x: x.split('/')[2])\n",
    "ds.head()"
   ]
  },
  {
   "cell_type": "code",
   "execution_count": 4,
   "metadata": {},
   "outputs": [
    {
     "name": "stdout",
     "output_type": "stream",
     "text": [
      "   GeoID             Geo\n",
      "0  16632          Israel\n",
      "3  19782  United Kingdom\n",
      "6  19880   United States\n",
      "   CategoryID                   Category\n",
      "0       11111       Nail Fungus Products\n",
      "1       22222       Key Making & Copying\n",
      "2       33333  TV Sci-Fi & Fantasy Shows\n",
      "     year\n",
      "0    2016\n",
      "108  2017\n",
      "216  2018\n"
     ]
    }
   ],
   "source": [
    "geoDf = ds.filter(items=['GeoID','Geo']).drop_duplicates()\n",
    "categoryDf = ds.filter(items=['CategoryID','Category']).drop_duplicates()\n",
    "yearsDf = ds.filter(items=['year']).drop_duplicates()\n",
    "\n",
    "print(geoDf.head())\n",
    "print(categoryDf.head())\n",
    "print(yearsDf.head())"
   ]
  },
  {
   "cell_type": "code",
   "execution_count": 5,
   "metadata": {},
   "outputs": [
    {
     "data": {
      "text/html": [
       "<div>\n",
       "<style scoped>\n",
       "    .dataframe tbody tr th:only-of-type {\n",
       "        vertical-align: middle;\n",
       "    }\n",
       "\n",
       "    .dataframe tbody tr th {\n",
       "        vertical-align: top;\n",
       "    }\n",
       "\n",
       "    .dataframe thead th {\n",
       "        text-align: right;\n",
       "    }\n",
       "</style>\n",
       "<table border=\"1\" class=\"dataframe\">\n",
       "  <thead>\n",
       "    <tr style=\"text-align: right;\">\n",
       "      <th></th>\n",
       "      <th>GeoID</th>\n",
       "      <th>CategoryID</th>\n",
       "      <th>2016</th>\n",
       "      <th>2017</th>\n",
       "      <th>2018</th>\n",
       "    </tr>\n",
       "  </thead>\n",
       "  <tbody>\n",
       "  </tbody>\n",
       "</table>\n",
       "</div>"
      ],
      "text/plain": [
       "Empty DataFrame\n",
       "Columns: [GeoID, CategoryID, 2016, 2017, 2018]\n",
       "Index: []"
      ]
     },
     "execution_count": 5,
     "metadata": {},
     "output_type": "execute_result"
    }
   ],
   "source": [
    "columnsNames = ['CategoryID', *yearsDf.year.array]\n",
    "peakMonth = pd.DataFrame([], columns=['GeoID', *columnsNames])\n",
    "peakMonth.head()"
   ]
  },
  {
   "cell_type": "code",
   "execution_count": 6,
   "metadata": {
    "scrolled": false
   },
   "outputs": [],
   "source": [
    "val = [0]*len(yearsDf.year.array)\n",
    "\n",
    "for geo in geoDf.GeoID:\n",
    "    masterdf = []\n",
    "    for cat in categoryDf.CategoryID:\n",
    "        data = [cat]\n",
    "        data.extend(val)\n",
    "        tempdf = {'CategoryID':cat, 'GeoID':geo}\n",
    "        for year in yearsDf.year:\n",
    "            temp = ds[(geo==ds.GeoID) & (cat==ds.CategoryID) & (year == ds.year)]\n",
    "            temp = temp.filter(items=['Impressions','month'])\n",
    "            maxImpressionsId = temp.Impressions.idxmax(axis=0)\n",
    "            tempdf.update([(year, temp[temp.index == maxImpressionsId].month.values[0])])\n",
    "        masterdf.append(tempdf)\n",
    "    peakMonth = peakMonth.append(masterdf, ignore_index=True)"
   ]
  },
  {
   "cell_type": "code",
   "execution_count": 7,
   "metadata": {},
   "outputs": [
    {
     "name": "stdout",
     "output_type": "stream",
     "text": [
      "   GeoID CategoryID 2016 2017 2018\n",
      "0  16632      11111   03   02   11\n",
      "1  16632      22222   01   01   12\n",
      "2  16632      33333   12   12   12\n",
      "3  19782      11111   06   06   06\n",
      "4  19782      22222   08   03   01\n",
      "5  19782      33333   12   11   02\n",
      "6  19880      11111   08   06   03\n",
      "7  19880      22222   01   01   01\n",
      "8  19880      33333   06   11   01\n"
     ]
    }
   ],
   "source": [
    "print(peakMonth)"
   ]
  },
  {
   "cell_type": "code",
   "execution_count": 8,
   "metadata": {},
   "outputs": [
    {
     "name": "stdout",
     "output_type": "stream",
     "text": [
      "   GeoID CategoryID 2016 2017 2018             Geo                   Category\n",
      "0  16632      11111   03   02   11          Israel       Nail Fungus Products\n",
      "1  16632      22222   01   01   12          Israel       Key Making & Copying\n",
      "2  16632      33333   12   12   12          Israel  TV Sci-Fi & Fantasy Shows\n",
      "3  19782      11111   06   06   06  United Kingdom       Nail Fungus Products\n",
      "4  19782      22222   08   03   01  United Kingdom       Key Making & Copying\n",
      "5  19782      33333   12   11   02  United Kingdom  TV Sci-Fi & Fantasy Shows\n",
      "6  19880      11111   08   06   03   United States       Nail Fungus Products\n",
      "7  19880      22222   01   01   01   United States       Key Making & Copying\n",
      "8  19880      33333   06   11   01   United States  TV Sci-Fi & Fantasy Shows\n"
     ]
    }
   ],
   "source": [
    "peakMonth= peakMonth.join(geoDf.set_index('GeoID'), on='GeoID')\n",
    "peakMonth= peakMonth.join(categoryDf.set_index('CategoryID'), on='CategoryID')\n",
    "print(peakMonth)"
   ]
  },
  {
   "cell_type": "code",
   "execution_count": 9,
   "metadata": {},
   "outputs": [],
   "source": [
    "def is_peak(geo, category):\n",
    "    geo_category_filtered_peak = peakMonth[(peakMonth.GeoID==geo) & (peakMonth.CategoryID==category)]\n",
    "    return geo_category_filtered_peak.filter(items=yearsDf.year).nunique(axis=1) == 1"
   ]
  },
  {
   "cell_type": "code",
   "execution_count": 10,
   "metadata": {},
   "outputs": [
    {
     "name": "stdout",
     "output_type": "stream",
     "text": [
      "[False, False, True, True, False, False, False, True, False]\n"
     ]
    }
   ],
   "source": [
    "peak_arr = []\n",
    "for idx, row in peakMonth.iterrows():\n",
    "    peak_arr.extend(is_peak(row['GeoID'], row['CategoryID']))\n",
    "peakMonth.insert(len(peakMonth.columns)-1, 'peak', peak_arr)\n",
    "\n",
    "print(peak_arr)"
   ]
  },
  {
   "cell_type": "code",
   "execution_count": 18,
   "metadata": {},
   "outputs": [
    {
     "name": "stdout",
     "output_type": "stream",
     "text": [
      "   GeoID CategoryID 2016 2017 2018             Geo  peak  \\\n",
      "2  16632      33333   12   12   12          Israel  True   \n",
      "3  19782      11111   06   06   06  United Kingdom  True   \n",
      "7  19880      22222   01   01   01   United States  True   \n",
      "\n",
      "                    Category  \n",
      "2  TV Sci-Fi & Fantasy Shows  \n",
      "3       Nail Fungus Products  \n",
      "7       Key Making & Copying  \n"
     ]
    }
   ],
   "source": [
    "#find only peaks\n",
    "onlyPeaks = peakMonth[peakMonth.peak== True]\n",
    "print(onlyPeaks)\n"
   ]
  },
  {
   "cell_type": "code",
   "execution_count": 19,
   "metadata": {},
   "outputs": [
    {
     "name": "stdout",
     "output_type": "stream",
     "text": [
      "   CategoryID  GeoID  TotalImpressionsAvg\n",
      "0       11111  16632            438432.42\n",
      "1       22222  16632            852240.67\n",
      "2       33333  16632            497760.72\n",
      "3       11111  19782            702651.64\n",
      "4       22222  19782            549852.75\n",
      "5       33333  19782            481776.69\n",
      "6       11111  19880            516305.64\n",
      "7       22222  19880           1551682.69\n",
      "8       33333  19880            503668.86\n"
     ]
    }
   ],
   "source": [
    "## find the average impressions of vertical in all months \n",
    "totalAvgs = ds.groupby(['CategoryID', 'GeoID'], as_index=False, sort=False).mean()\n",
    "totalAvgs.rename(columns={'Impressions':'TotalImpressionsAvg'},inplace=True)\n",
    "print(totalAvgs)\n"
   ]
  },
  {
   "cell_type": "code",
   "execution_count": 20,
   "metadata": {},
   "outputs": [
    {
     "name": "stdout",
     "output_type": "stream",
     "text": [
      "   CategoryID  GeoID PeakMonth  PeakImpressionsAvg\n",
      "0       33333  16632        12             1001001\n",
      "0       11111  19782        06             2002002\n",
      "0       22222  19880        01            13333338\n"
     ]
    }
   ],
   "source": [
    "## function to find the average impressions of the peak month over all of the years \n",
    "peakAvg = pd.DataFrame()\n",
    "for idx, row in onlyPeaks.iterrows():\n",
    "    peakAvg = peakAvg.append(ds[(ds.GeoID==row.GeoID) & (ds.CategoryID==row.CategoryID) & (ds.month==row['2018'])].groupby(['CategoryID', 'GeoID', 'month'], as_index=False, sort=False).mean())\n",
    "peakAvg.rename(columns={'Impressions':'PeakImpressionsAvg', 'month':'PeakMonth'},inplace=True)\n",
    "print(peakAvg)\n"
   ]
  },
  {
   "cell_type": "code",
   "execution_count": 21,
   "metadata": {
    "scrolled": true
   },
   "outputs": [
    {
     "data": {
      "text/html": [
       "<div>\n",
       "<style scoped>\n",
       "    .dataframe tbody tr th:only-of-type {\n",
       "        vertical-align: middle;\n",
       "    }\n",
       "\n",
       "    .dataframe tbody tr th {\n",
       "        vertical-align: top;\n",
       "    }\n",
       "\n",
       "    .dataframe thead th {\n",
       "        text-align: right;\n",
       "    }\n",
       "</style>\n",
       "<table border=\"1\" class=\"dataframe\">\n",
       "  <thead>\n",
       "    <tr style=\"text-align: right;\">\n",
       "      <th></th>\n",
       "      <th>CategoryID</th>\n",
       "      <th>GeoID</th>\n",
       "      <th>PeakMonth</th>\n",
       "      <th>PeakImpressionsAvg</th>\n",
       "      <th>TotalImpressionsAvg</th>\n",
       "      <th>ratio</th>\n",
       "      <th>Geo</th>\n",
       "      <th>Category</th>\n",
       "    </tr>\n",
       "  </thead>\n",
       "  <tbody>\n",
       "    <tr>\n",
       "      <th>2</th>\n",
       "      <td>22222</td>\n",
       "      <td>19880</td>\n",
       "      <td>01</td>\n",
       "      <td>13333338</td>\n",
       "      <td>1551682.69</td>\n",
       "      <td>8.59</td>\n",
       "      <td>United States</td>\n",
       "      <td>Key Making &amp; Copying</td>\n",
       "    </tr>\n",
       "    <tr>\n",
       "      <th>1</th>\n",
       "      <td>11111</td>\n",
       "      <td>19782</td>\n",
       "      <td>06</td>\n",
       "      <td>2002002</td>\n",
       "      <td>702651.64</td>\n",
       "      <td>2.85</td>\n",
       "      <td>United Kingdom</td>\n",
       "      <td>Nail Fungus Products</td>\n",
       "    </tr>\n",
       "    <tr>\n",
       "      <th>0</th>\n",
       "      <td>33333</td>\n",
       "      <td>16632</td>\n",
       "      <td>12</td>\n",
       "      <td>1001001</td>\n",
       "      <td>497760.72</td>\n",
       "      <td>2.01</td>\n",
       "      <td>Israel</td>\n",
       "      <td>TV Sci-Fi &amp; Fantasy Shows</td>\n",
       "    </tr>\n",
       "  </tbody>\n",
       "</table>\n",
       "</div>"
      ],
      "text/plain": [
       "   CategoryID  GeoID PeakMonth  PeakImpressionsAvg  TotalImpressionsAvg  \\\n",
       "2       22222  19880        01            13333338           1551682.69   \n",
       "1       11111  19782        06             2002002            702651.64   \n",
       "0       33333  16632        12             1001001            497760.72   \n",
       "\n",
       "   ratio             Geo                   Category  \n",
       "2   8.59   United States       Key Making & Copying  \n",
       "1   2.85  United Kingdom       Nail Fungus Products  \n",
       "0   2.01          Israel  TV Sci-Fi & Fantasy Shows  "
      ]
     },
     "execution_count": 21,
     "metadata": {},
     "output_type": "execute_result"
    }
   ],
   "source": [
    "merged = pd.merge(peakAvg, totalAvgs, on=['GeoID', 'CategoryID'])\n",
    "merged['ratio'] = merged['PeakImpressionsAvg'] / merged['TotalImpressionsAvg']\n",
    "merged= merged.join(geoDf.set_index('GeoID'), on='GeoID')\n",
    "merged= merged.join(categoryDf.set_index('CategoryID'), on='CategoryID')\n",
    "merged = merged.sort_values('ratio', ascending=False)\n",
    "merged"
   ]
  },
  {
   "cell_type": "code",
   "execution_count": 15,
   "metadata": {},
   "outputs": [],
   "source": [
    "merged.to_csv('./result_V1.csv')"
   ]
  },
  {
   "cell_type": "code",
   "execution_count": null,
   "metadata": {},
   "outputs": [],
   "source": []
  }
 ],
 "metadata": {
  "kernelspec": {
   "display_name": "Python 3",
   "language": "python",
   "name": "python3"
  },
  "language_info": {
   "codemirror_mode": {
    "name": "ipython",
    "version": 3
   },
   "file_extension": ".py",
   "mimetype": "text/x-python",
   "name": "python",
   "nbconvert_exporter": "python",
   "pygments_lexer": "ipython3",
   "version": "3.8.8"
  }
 },
 "nbformat": 4,
 "nbformat_minor": 2
}
